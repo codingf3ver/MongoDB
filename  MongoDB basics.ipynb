{
 "cells": [
  {
   "cell_type": "code",
   "execution_count": 1,
   "metadata": {},
   "outputs": [],
   "source": [
    "from pymongo import MongoClient"
   ]
  },
  {
   "cell_type": "code",
   "execution_count": 2,
   "metadata": {},
   "outputs": [],
   "source": [
    "# pprint library is used to make the output look more pretty\n",
    "from pprint import pprint\n",
    "\n",
    "# connect to MongoDB with local server you can put your own user id and password\n",
    "client = MongoClient('mongodb://127.0.0.1:27017')"
   ]
  },
  {
   "cell_type": "code",
   "execution_count": 3,
   "metadata": {},
   "outputs": [],
   "source": [
    "#Create database or access the existing database\n",
    "mydb=client['Database']"
   ]
  },
  {
   "cell_type": "code",
   "execution_count": 4,
   "metadata": {},
   "outputs": [],
   "source": [
    "#Creating collections or Table in NoSQL\n",
    "collection=mydb.EmployeeDatabase"
   ]
  },
  {
   "cell_type": "code",
   "execution_count": 5,
   "metadata": {},
   "outputs": [],
   "source": [
    "#Populatimg table with data\n",
    "info=[{'First name':'Brajesh',\n",
    "     'Last Name':'Kumar',\n",
    "     'Age':30},\n",
    "     {'First name':'Jamal',\n",
    "     'Last Name':'Hossain',\n",
    "     'Age':35\n",
    "     },\n",
    "     {'First name':'Krish',\n",
    "     'Last Name':'radha',\n",
    "     'Age':20\n",
    "     }\n",
    "     ,{'First name':'Mahesh',\n",
    "     'Last Name':'Ramesh',\n",
    "     'Age':29}\n",
    "      ,\n",
    "      {'First name':'Tyagi',\n",
    "     'Last Name':'giri',\n",
    "     'Age':25}]"
   ]
  },
  {
   "cell_type": "code",
   "execution_count": 6,
   "metadata": {},
   "outputs": [
    {
     "data": {
      "text/plain": [
       "<pymongo.results.InsertManyResult at 0x7fc97117df80>"
      ]
     },
     "execution_count": 6,
     "metadata": {},
     "output_type": "execute_result"
    }
   ],
   "source": [
    "#Inserting the table data into the database\n",
    "collection.insert_many(info)"
   ]
  },
  {
   "cell_type": "code",
   "execution_count": null,
   "metadata": {},
   "outputs": [],
   "source": []
  }
 ],
 "metadata": {
  "kernelspec": {
   "display_name": "Python 3",
   "language": "python",
   "name": "python3"
  },
  "language_info": {
   "codemirror_mode": {
    "name": "ipython",
    "version": 3
   },
   "file_extension": ".py",
   "mimetype": "text/x-python",
   "name": "python",
   "nbconvert_exporter": "python",
   "pygments_lexer": "ipython3",
   "version": "3.8.3"
  }
 },
 "nbformat": 4,
 "nbformat_minor": 4
}
