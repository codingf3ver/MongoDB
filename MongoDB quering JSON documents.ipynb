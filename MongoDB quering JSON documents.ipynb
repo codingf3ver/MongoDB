{
 "cells": [
  {
   "cell_type": "code",
   "execution_count": 1,
   "metadata": {},
   "outputs": [],
   "source": [
    "from pymongo import MongoClient\n",
    "client = MongoClient('mongodb://127.0.0.1:27017')"
   ]
  },
  {
   "cell_type": "code",
   "execution_count": 2,
   "metadata": {},
   "outputs": [],
   "source": [
    "mydb=client['Database']\n",
    "collection=mydb.EmployeeDatabase"
   ]
  },
  {
   "cell_type": "code",
   "execution_count": 3,
   "metadata": {},
   "outputs": [
    {
     "name": "stdout",
     "output_type": "stream",
     "text": [
      "{'_id': ObjectId('603cef78321fea7f1bef15b8'), 'First name': 'Krishna', 'Last Name': 'Kumar', 'Age': 25}\n",
      "{'_id': ObjectId('603cf092321fea7f1bef15b9'), 'First name': 'Krishna', 'Last Name': 'Kumar', 'Age': 25}\n",
      "{'_id': ObjectId('603cf092321fea7f1bef15ba'), 'First name': 'Mahatab', 'Last Name': 'Hossain', 'Age': 24}\n",
      "{'_id': ObjectId('603cf092321fea7f1bef15bb'), 'First name': 'Krishna', 'Last Name': 'Kumar', 'Age': 29}\n",
      "{'_id': ObjectId('603cf092321fea7f1bef15bc'), 'First name': 'Krishna', 'Last Name': 'Mahesh', 'Age': 29}\n",
      "{'_id': ObjectId('603cf092321fea7f1bef15bd'), 'First name': 'Ravi', 'Last Name': 'Kumar', 'Age': 25}\n",
      "{'_id': ObjectId('603d089e3997f85ca384f186'), 'First name': 'Brajesh', 'Last Name': 'Kumar', 'Age': 30}\n",
      "{'_id': ObjectId('603d089e3997f85ca384f187'), 'First name': 'Jamal', 'Last Name': 'Hossain', 'Age': 35}\n",
      "{'_id': ObjectId('603d089e3997f85ca384f188'), 'First name': 'Krish', 'Last Name': 'radha', 'Age': 20}\n",
      "{'_id': ObjectId('603d089e3997f85ca384f189'), 'First name': 'Mahesh', 'Last Name': 'Ramesh', 'Age': 29}\n",
      "{'_id': ObjectId('603d089e3997f85ca384f18a'), 'First name': 'Tyagi', 'Last Name': 'giri', 'Age': 25}\n"
     ]
    }
   ],
   "source": [
    "#select * from 'table name'\n",
    "for r in collection.find():\n",
    "    print(r)"
   ]
  },
  {
   "cell_type": "code",
   "execution_count": 4,
   "metadata": {},
   "outputs": [
    {
     "name": "stdout",
     "output_type": "stream",
     "text": [
      "{'_id': ObjectId('603cf092321fea7f1bef15bd'), 'First name': 'Ravi', 'Last Name': 'Kumar', 'Age': 25}\n"
     ]
    }
   ],
   "source": [
    "#select * from 'where='xyz' clause like in NoSQL\n",
    "for i in collection.find({'First name':'Ravi'}):\n",
    "    print(i)"
   ]
  },
  {
   "cell_type": "code",
   "execution_count": 5,
   "metadata": {},
   "outputs": [],
   "source": [
    "# Query using $in $lt \n",
    "#Like sql IN ,AND,"
   ]
  },
  {
   "cell_type": "code",
   "execution_count": 6,
   "metadata": {},
   "outputs": [
    {
     "name": "stdout",
     "output_type": "stream",
     "text": [
      "{'_id': ObjectId('603cef78321fea7f1bef15b8'), 'First name': 'Krishna', 'Last Name': 'Kumar', 'Age': 25}\n",
      "{'_id': ObjectId('603cf092321fea7f1bef15b9'), 'First name': 'Krishna', 'Last Name': 'Kumar', 'Age': 25}\n",
      "{'_id': ObjectId('603cf092321fea7f1bef15ba'), 'First name': 'Mahatab', 'Last Name': 'Hossain', 'Age': 24}\n",
      "{'_id': ObjectId('603cf092321fea7f1bef15bb'), 'First name': 'Krishna', 'Last Name': 'Kumar', 'Age': 29}\n",
      "{'_id': ObjectId('603cf092321fea7f1bef15bd'), 'First name': 'Ravi', 'Last Name': 'Kumar', 'Age': 25}\n",
      "{'_id': ObjectId('603d089e3997f85ca384f186'), 'First name': 'Brajesh', 'Last Name': 'Kumar', 'Age': 30}\n",
      "{'_id': ObjectId('603d089e3997f85ca384f187'), 'First name': 'Jamal', 'Last Name': 'Hossain', 'Age': 35}\n"
     ]
    }
   ],
   "source": [
    "#This query act like in operator in sql SELECT * FROM TABLE NAME WHERE LAST NAME IN () \n",
    "for i in collection.find({'Last Name':{'$in':['Kumar','Hossain']}}):\n",
    "    print(i)"
   ]
  },
  {
   "cell_type": "code",
   "execution_count": 8,
   "metadata": {},
   "outputs": [
    {
     "name": "stdout",
     "output_type": "stream",
     "text": [
      "{'_id': ObjectId('603cef78321fea7f1bef15b8'), 'First name': 'Krishna', 'Last Name': 'Kumar', 'Age': 25}\n",
      "{'_id': ObjectId('603cf092321fea7f1bef15b9'), 'First name': 'Krishna', 'Last Name': 'Kumar', 'Age': 25}\n",
      "{'_id': ObjectId('603cf092321fea7f1bef15bd'), 'First name': 'Ravi', 'Last Name': 'Kumar', 'Age': 25}\n"
     ]
    }
   ],
   "source": [
    "#Finding the name which is ending 'Kumar' and age is less than 26\n",
    "#Herecomma ','means AND operations\n",
    "for i in collection.find({'Last Name':'Kumar','Age':{'$lt':26}}):\n",
    "    print(i)"
   ]
  },
  {
   "cell_type": "code",
   "execution_count": 11,
   "metadata": {},
   "outputs": [
    {
     "name": "stdout",
     "output_type": "stream",
     "text": [
      "{'_id': ObjectId('603cef78321fea7f1bef15b8'), 'First name': 'Krishna', 'Last Name': 'Kumar', 'Age': 25}\n",
      "{'_id': ObjectId('603cf092321fea7f1bef15b9'), 'First name': 'Krishna', 'Last Name': 'Kumar', 'Age': 25}\n",
      "{'_id': ObjectId('603cf092321fea7f1bef15bb'), 'First name': 'Krishna', 'Last Name': 'Kumar', 'Age': 29}\n",
      "{'_id': ObjectId('603cf092321fea7f1bef15bd'), 'First name': 'Ravi', 'Last Name': 'Kumar', 'Age': 25}\n",
      "{'_id': ObjectId('603d089e3997f85ca384f186'), 'First name': 'Brajesh', 'Last Name': 'Kumar', 'Age': 30}\n",
      "{'_id': ObjectId('603d089e3997f85ca384f18a'), 'First name': 'Tyagi', 'Last Name': 'giri', 'Age': 25}\n"
     ]
    }
   ],
   "source": [
    "#select * from 'table name' where last name='kumar' or age=25\n",
    "for i in collection.find({'$or':[{'Last Name':'Kumar'},{'Age':25}]}):\n",
    "    print(i)"
   ]
  },
  {
   "cell_type": "code",
   "execution_count": 12,
   "metadata": {},
   "outputs": [
    {
     "name": "stdout",
     "output_type": "stream",
     "text": [
      "{'_id': ObjectId('603cef78321fea7f1bef15b8'), 'First name': 'Krishna', 'Last Name': 'Kumar', 'Age': 25}\n",
      "{'_id': ObjectId('603cf092321fea7f1bef15b9'), 'First name': 'Krishna', 'Last Name': 'Kumar', 'Age': 25}\n",
      "{'_id': ObjectId('603cf092321fea7f1bef15bd'), 'First name': 'Ravi', 'Last Name': 'Kumar', 'Age': 25}\n"
     ]
    }
   ],
   "source": [
    "#select * from 'table name' where last name='kumar' AND age=25\n",
    "for i in collection.find({'$and':[{'Last Name':'Kumar'},{'Age':25}]}):\n",
    "    print(i)"
   ]
  },
  {
   "cell_type": "code",
   "execution_count": null,
   "metadata": {},
   "outputs": [],
   "source": []
  }
 ],
 "metadata": {
  "kernelspec": {
   "display_name": "Python 3",
   "language": "python",
   "name": "python3"
  },
  "language_info": {
   "codemirror_mode": {
    "name": "ipython",
    "version": 3
   },
   "file_extension": ".py",
   "mimetype": "text/x-python",
   "name": "python",
   "nbconvert_exporter": "python",
   "pygments_lexer": "ipython3",
   "version": "3.8.3"
  }
 },
 "nbformat": 4,
 "nbformat_minor": 4
}
